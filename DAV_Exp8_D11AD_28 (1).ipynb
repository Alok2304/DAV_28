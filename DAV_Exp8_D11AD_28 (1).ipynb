{
  "nbformat": 4,
  "nbformat_minor": 0,
  "metadata": {
    "colab": {
      "provenance": []
    },
    "kernelspec": {
      "name": "python3",
      "display_name": "Python 3"
    },
    "language_info": {
      "name": "python"
    }
  },
  "cells": [
    {
      "cell_type": "markdown",
      "source": [
        "[Link to colab notebook](https://colab.research.google.com/drive/1_tQpPuID6XacD3x6onZ4y2fnyeOb4eMM#scrollTo=nQs3gsUty8Ez)"
      ],
      "metadata": {
        "id": "nQs3gsUty8Ez"
      }
    },
    {
      "cell_type": "code",
      "execution_count": 1,
      "metadata": {
        "colab": {
          "base_uri": "https://localhost:8080/",
          "height": 268
        },
        "id": "FPjjCy2r_E37",
        "outputId": "b38c0af7-6fff-41c8-f716-aa03f9740ff8"
      },
      "outputs": [
        {
          "output_type": "display_data",
          "data": {
            "text/plain": [
              "<IPython.core.display.HTML object>"
            ],
            "text/html": [
              "<!DOCTYPE html>\n",
              "<html lang=\"en\">\n",
              "<head>\n",
              "    <meta charset=\"UTF-8\">\n",
              "    <meta name=\"viewport\" content=\"width=device-width, initial-scale=1.0\">\n",
              "    <title>Data-Based D3.js Example</title>\n",
              "    <script src=\"https://d3js.org/d3.v5.min.js\"></script>\n",
              "</head>\n",
              "<body>\n",
              "\n",
              "    <h2>Basic D3</h2>\n",
              "    <div id=\"chart-container\"></div>\n",
              "\n",
              "    <script>\n",
              "      // Your D3.js code here\n",
              "      const chartContainer = document.getElementById('chart-container');\n",
              "\n",
              "      const width = 928;\n",
              "      const height = 200;\n",
              "      const svg = d3\n",
              "        .create(\"svg\")\n",
              "        .attr(\"viewBox\", [0, 0, width, height])\n",
              "        .attr(\"width\", width)\n",
              "        .attr(\"height\", height)\n",
              "        .attr(\"style\", \"max-width: 100%; height: auto;\");\n",
              "\n",
              "      svg\n",
              "        .selectAll(\"circle\")\n",
              "        .data(d3.range(18))\n",
              "        .join(\"circle\")\n",
              "        .attr(\"cx\", (d) => 30 + d * 50)\n",
              "        .attr(\"cy\", height / 2)\n",
              "        .attr(\"r\", (d) => Math.random() * 20)\n",
              "        .attr(\"fill\", () => randomColors());\n",
              "\n",
              "      chartContainer.appendChild(svg.node());\n",
              "\n",
              "      function randomColors() {\n",
              "        const letters = \"0123456789ABCDEF\";\n",
              "        let color = \"#\";\n",
              "        for (let i = 0; i < 6; i++) {\n",
              "          color += letters[Math.floor(Math.random() * 16)];\n",
              "        }\n",
              "        return color;\n",
              "      }\n",
              "    </script>\n",
              "\n",
              "</body>\n",
              "</html>\n"
            ]
          },
          "metadata": {}
        }
      ],
      "source": [
        "%%html\n",
        "<!DOCTYPE html>\n",
        "<html lang=\"en\">\n",
        "<head>\n",
        "    <meta charset=\"UTF-8\">\n",
        "    <meta name=\"viewport\" content=\"width=device-width, initial-scale=1.0\">\n",
        "    <title>Data-Based D3.js Example</title>\n",
        "    <script src=\"https://d3js.org/d3.v5.min.js\"></script>\n",
        "</head>\n",
        "<body>\n",
        "\n",
        "    <h2>Basic D3</h2>\n",
        "    <div id=\"chart-container\"></div>\n",
        "\n",
        "    <script>\n",
        "      // Your D3.js code here\n",
        "      const chartContainer = document.getElementById('chart-container');\n",
        "\n",
        "      const width = 928;\n",
        "      const height = 200;\n",
        "      const svg = d3\n",
        "        .create(\"svg\")\n",
        "        .attr(\"viewBox\", [0, 0, width, height])\n",
        "        .attr(\"width\", width)\n",
        "        .attr(\"height\", height)\n",
        "        .attr(\"style\", \"max-width: 100%; height: auto;\");\n",
        "\n",
        "      svg\n",
        "        .selectAll(\"circle\")\n",
        "        .data(d3.range(18))\n",
        "        .join(\"circle\")\n",
        "        .attr(\"cx\", (d) => 30 + d * 50)\n",
        "        .attr(\"cy\", height / 2)\n",
        "        .attr(\"r\", (d) => Math.random() * 20)\n",
        "        .attr(\"fill\", () => randomColors());\n",
        "\n",
        "      chartContainer.appendChild(svg.node());\n",
        "\n",
        "      function randomColors() {\n",
        "        const letters = \"0123456789ABCDEF\";\n",
        "        let color = \"#\";\n",
        "        for (let i = 0; i < 6; i++) {\n",
        "          color += letters[Math.floor(Math.random() * 16)];\n",
        "        }\n",
        "        return color;\n",
        "      }\n",
        "    </script>\n",
        "\n",
        "</body>\n",
        "</html>"
      ]
    },
    {
      "cell_type": "code",
      "source": [
        "%%html\n",
        "<!DOCTYPE html>\n",
        "<html lang=\"en\">\n",
        "<head>\n",
        "    <meta charset=\"UTF-8\">\n",
        "    <meta name=\"viewport\" content=\"width=device-width, initial-scale=1.0\">\n",
        "    <title>Data-Based D3.js Example</title>\n",
        "    <script src=\"https://d3js.org/d3.v5.min.js\"></script>\n",
        "</head>\n",
        "<body>\n",
        "\n",
        "    <h2>Modifying Elements</h2>\n",
        "    <button id=\"random-button\">Add Random Colorful Text</button>\n",
        "    <div id=\"chart-container\"></div>\n",
        "\n",
        "    <script>\n",
        "      const chartContainer = document.getElementById('chart-container');\n",
        "      let count = 0;\n",
        "\n",
        "      d3.select(\"#random-button\").on(\"click\", function() {\n",
        "          const newParagraph = document.createElement('p');\n",
        "          newParagraph.textContent = `Text number ${count++}`;\n",
        "          newParagraph.style.color = randomColors();\n",
        "          chartContainer.appendChild(newParagraph);\n",
        "      });\n",
        "\n",
        "      function randomColors() {\n",
        "        const letters = \"0123456789ABCDEF\";\n",
        "        let color = \"#\";\n",
        "        for (let i = 0; i < 6; i++) {\n",
        "          color += letters[Math.floor(Math.random() * 16)];\n",
        "        }\n",
        "        return color;\n",
        "      }\n",
        "    </script>\n",
        "\n",
        "</body>\n",
        "</html>"
      ],
      "metadata": {
        "colab": {
          "base_uri": "https://localhost:8080/",
          "height": 209
        },
        "id": "FPqqWUXk_3jm",
        "outputId": "d4977805-3bec-4423-e4d0-719e5f7eace2"
      },
      "execution_count": 2,
      "outputs": [
        {
          "output_type": "display_data",
          "data": {
            "text/plain": [
              "<IPython.core.display.HTML object>"
            ],
            "text/html": [
              "<!DOCTYPE html>\n",
              "<html lang=\"en\">\n",
              "<head>\n",
              "    <meta charset=\"UTF-8\">\n",
              "    <meta name=\"viewport\" content=\"width=device-width, initial-scale=1.0\">\n",
              "    <title>Data-Based D3.js Example</title>\n",
              "    <script src=\"https://d3js.org/d3.v5.min.js\"></script>\n",
              "</head>\n",
              "<body>\n",
              "\n",
              "    <h2>Modifying Elements</h2>\n",
              "    <button id=\"random-button\">Add Random Colorful Text</button>\n",
              "    <div id=\"chart-container\"></div>\n",
              "\n",
              "    <script>\n",
              "      const chartContainer = document.getElementById('chart-container');\n",
              "      let count = 0;\n",
              "\n",
              "      d3.select(\"#random-button\").on(\"click\", function() {\n",
              "          const newParagraph = document.createElement('p');\n",
              "          newParagraph.textContent = `Text number ${count++}`;\n",
              "          newParagraph.style.color = randomColors();\n",
              "          chartContainer.appendChild(newParagraph);\n",
              "      });\n",
              "\n",
              "      function randomColors() {\n",
              "        const letters = \"0123456789ABCDEF\";\n",
              "        let color = \"#\";\n",
              "        for (let i = 0; i < 6; i++) {\n",
              "          color += letters[Math.floor(Math.random() * 16)];\n",
              "        }\n",
              "        return color;\n",
              "      }\n",
              "    </script>\n",
              "\n",
              "</body>\n",
              "</html>\n"
            ]
          },
          "metadata": {}
        }
      ]
    },
    {
      "cell_type": "code",
      "source": [
        "%%html\n",
        "<!DOCTYPE html>\n",
        "<html lang=\"en\">\n",
        "<head>\n",
        "  <meta charset=\"UTF-8\">\n",
        "  <meta name=\"viewport\" content=\"width=device-width, initial-scale=1.0\">\n",
        "  <title>D3.js Bar Chart</title>\n",
        "  <script src=\"https://d3js.org/d3.v5.min.js\"></script>\n",
        "</head>\n",
        "<body>\n",
        "<h2>Data Loading in D3</h2>\n",
        "<div id=\"chart-container\"></div>\n",
        "\n",
        "<script>\n",
        "const data = [\n",
        "  { category: \"A\", value: 100 },\n",
        "  { category: \"B\", value: 200 },\n",
        "  { category: \"C\", value: 150 },\n",
        "];\n",
        "\n",
        "const svgWidth = 400;\n",
        "const svgHeight = 300;\n",
        "const barWidth = svgWidth / data.length;\n",
        "\n",
        "const svg = d3.select(\"#chart-container\")\n",
        "  .append(\"svg\")\n",
        "  .attr(\"width\", svgWidth)\n",
        "  .attr(\"height\", svgHeight);\n",
        "\n",
        "svg.selectAll(\"rect\")\n",
        "  .data(data)\n",
        "  .enter().append(\"rect\")\n",
        "  .attr(\"x\", (d, i) => i * barWidth)\n",
        "  .attr(\"y\", d => svgHeight - d.value)\n",
        "  .attr(\"width\", barWidth - 5)\n",
        "  .attr(\"height\", d => d.value)\n",
        "  .attr(\"fill\", \"steelblue\");\n",
        "</script>\n",
        "\n",
        "</body>\n",
        "</html>"
      ],
      "metadata": {
        "colab": {
          "base_uri": "https://localhost:8080/",
          "height": 368
        },
        "id": "CfiUtC6X_4T8",
        "outputId": "389a4f95-fe21-42d8-b7ef-a8a051324f02"
      },
      "execution_count": 3,
      "outputs": [
        {
          "output_type": "display_data",
          "data": {
            "text/plain": [
              "<IPython.core.display.HTML object>"
            ],
            "text/html": [
              "<!DOCTYPE html>\n",
              "<html lang=\"en\">\n",
              "<head>\n",
              "  <meta charset=\"UTF-8\">\n",
              "  <meta name=\"viewport\" content=\"width=device-width, initial-scale=1.0\">\n",
              "  <title>D3.js Bar Chart</title>\n",
              "  <script src=\"https://d3js.org/d3.v5.min.js\"></script>\n",
              "</head>\n",
              "<body>\n",
              "<h2>Data Loading in D3</h2>\n",
              "<div id=\"chart-container\"></div>\n",
              "\n",
              "<script>\n",
              "const data = [\n",
              "  { category: \"A\", value: 100 },\n",
              "  { category: \"B\", value: 200 },\n",
              "  { category: \"C\", value: 150 },\n",
              "];\n",
              "\n",
              "const svgWidth = 400;\n",
              "const svgHeight = 300;\n",
              "const barWidth = svgWidth / data.length;\n",
              "\n",
              "const svg = d3.select(\"#chart-container\")\n",
              "  .append(\"svg\")\n",
              "  .attr(\"width\", svgWidth)\n",
              "  .attr(\"height\", svgHeight);\n",
              "\n",
              "svg.selectAll(\"rect\")\n",
              "  .data(data)\n",
              "  .enter().append(\"rect\")\n",
              "  .attr(\"x\", (d, i) => i * barWidth)\n",
              "  .attr(\"y\", d => svgHeight - d.value)\n",
              "  .attr(\"width\", barWidth - 5)\n",
              "  .attr(\"height\", d => d.value)\n",
              "  .attr(\"fill\", \"steelblue\");\n",
              "</script>\n",
              "\n",
              "</body>\n",
              "</html>\n"
            ]
          },
          "metadata": {}
        }
      ]
    }
  ]
}